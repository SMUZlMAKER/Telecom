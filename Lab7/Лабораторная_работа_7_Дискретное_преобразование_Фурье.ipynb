{
 "cells": [
  {
   "cell_type": "markdown",
   "metadata": {
    "id": "H4kein6G3pSV"
   },
   "source": "**Томилов Матвей, 5130901/20103**"
  },
  {
   "cell_type": "markdown",
   "metadata": {
    "id": "aWH4Hc5y3qWh"
   },
   "source": [
    "### *Упражнение 7.2.*\n",
    "\n",
    "Согласно методическому материалу, у нас есть метод для получения ДПФ за время, пропорциональное N^2, однако в данной работе нам необходимо попробовать использовть оптимизацию, которая позволят ускорить работу этого метода.\n",
    "\n",
    "Более быстрый метод назван быстрым преобразованием Фурье (БПФ).\n",
    "\n",
    "Он основан на лемме Дэниелсона-Ланцоша:\n",
    "\n",
    "DFT(y)[n]=DFT(e)[n]+exp⁡((-2πin)⁄n)∙DFT(o)[n]\n",
    "\n",
    "Где:\n",
    "\n",
    "DFT(y)[n] – n-й элемент ДПФ от y,\n",
    "\n",
    "e и o – массивы сигнала, содержащие соответственно четные и нечетные компоненты y.\n",
    "\n",
    "Благодаря этой лемме был разработан следующий рекурсивный алгоритм:\n",
    "\n",
    "\tРазделим массив сигнала y на четные элементы e и нечетные элементы o.\n",
    "\tВычислим DFT e и o, используя рекурсивный вызов.\n",
    "\tВычислим DFT(y) для каждого значения n, используя лемму Дэниелсона-Ланцоша.\n",
    "\n",
    "Создадим простой сигнал и вычислим его ДПФ, используя функцию numpy:\n"
   ]
  },
  {
   "cell_type": "code",
   "metadata": {
    "colab": {
     "base_uri": "https://localhost:8080/"
    },
    "id": "uaRldLAp3JXH",
    "outputId": "5f58ca8e-2d3c-4483-c266-d74a791e4fb5",
    "ExecuteTime": {
     "end_time": "2025-05-11T13:27:04.663183Z",
     "start_time": "2025-05-11T13:27:04.151608Z"
    }
   },
   "source": [
    "import numpy as np\n",
    "import matplotlib.pyplot as plt\n",
    "PI2 = 2 * np.pi\n",
    "# %%\n",
    "ys = [-0.5, 0.1, 0.7, -0.1]\n",
    "hs = np.fft.fft(ys)\n",
    "hs"
   ],
   "outputs": [
    {
     "data": {
      "text/plain": [
       "array([ 0.2+0.j , -1.2-0.2j,  0.2+0.j , -1.2+0.2j])"
      ]
     },
     "execution_count": 1,
     "metadata": {},
     "output_type": "execute_result"
    }
   ],
   "execution_count": 1
  },
  {
   "cell_type": "markdown",
   "metadata": {
    "id": "622E6GzJ-QMm"
   },
   "source": [
    "Полученные значения будем использовать, как эталон для проверки корректности построения функции.\n",
    "\n",
    "Сначала проверим лемму на корректность - создадим функцию, которая вместо рекурсивного вызова делит массив на две части, вычисляет их ДПФ (используя функцию numpy) и подставляет значения в лемму:\n"
   ]
  },
  {
   "cell_type": "code",
   "metadata": {
    "id": "yA3ykDYO8EYX",
    "ExecuteTime": {
     "end_time": "2025-05-11T13:27:04.679114Z",
     "start_time": "2025-05-11T13:27:04.676104Z"
    }
   },
   "source": [
    "def fft_norec(ys):\n",
    "    N = len(ys)\n",
    "    He = np.fft.fft(ys[::2])\n",
    "    Ho = np.fft.fft(ys[1::2])\n",
    "\n",
    "    ns = np.arange(N)\n",
    "    W = np.exp(-1j * PI2 * ns / N)\n",
    "\n",
    "    return np.tile(He, 2) + W * np.tile(Ho, 2)"
   ],
   "outputs": [],
   "execution_count": 2
  },
  {
   "cell_type": "markdown",
   "metadata": {
    "id": "8acsRAvS-qCR"
   },
   "source": [
    "Нас интересует разница в выводе между этим методом и методом из numpy:"
   ]
  },
  {
   "cell_type": "code",
   "metadata": {
    "colab": {
     "base_uri": "https://localhost:8080/"
    },
    "id": "dpcOvDuC-pJP",
    "outputId": "c9f44003-ec32-42a4-a6a4-a0391eae007b",
    "ExecuteTime": {
     "end_time": "2025-05-11T13:27:04.783931Z",
     "start_time": "2025-05-11T13:27:04.780933Z"
    }
   },
   "source": [
    "hs1 = fft_norec(ys)\n",
    "np.sum(np.abs(hs - hs1))"
   ],
   "outputs": [
    {
     "data": {
      "text/plain": [
       "np.float64(0.0)"
      ]
     },
     "execution_count": 3,
     "metadata": {},
     "output_type": "execute_result"
    }
   ],
   "execution_count": 3
  },
  {
   "cell_type": "markdown",
   "metadata": {
    "id": "RXquJfJo-4dw"
   },
   "source": [
    "Мы получили 0, значит, использование метода выше допустимо.\n",
    "\n",
    "Теперь вместо того, чтоб использовать встроенную функцию, вызовем нашу функцию рекурсивно, согласно второму пункту алгоритма:"
   ]
  },
  {
   "cell_type": "code",
   "metadata": {
    "id": "-hlUjl6d8EUy",
    "ExecuteTime": {
     "end_time": "2025-05-11T13:27:04.830333Z",
     "start_time": "2025-05-11T13:27:04.827054Z"
    }
   },
   "source": [
    "def my_fft(ys):\n",
    "    N = len(ys)\n",
    "    if N == 1:\n",
    "        return ys\n",
    "\n",
    "    He = my_fft(ys[::2])\n",
    "    Ho = my_fft(ys[1::2])\n",
    "\n",
    "    ns = np.arange(N)\n",
    "    W = np.exp(-1j * PI2 * ns / N)\n",
    "\n",
    "    return np.tile(He, 2) + W * np.tile(Ho, 2)"
   ],
   "outputs": [],
   "execution_count": 4
  },
  {
   "cell_type": "markdown",
   "metadata": {
    "id": "4GxA3V5s_UvW"
   },
   "source": [
    "В код пришлось добавить проверку на длину массива (базовый случай), чтобы алгоритм не ушел в бесконечный цикл.\n",
    "\n",
    "Вызовем получившуюся функцию и посмотрим на результат погрешности:\n"
   ]
  },
  {
   "cell_type": "code",
   "metadata": {
    "colab": {
     "base_uri": "https://localhost:8080/"
    },
    "id": "t9ORSKfM_VGR",
    "outputId": "e5e740ab-1870-43cf-d450-c8aaf57eac7e",
    "ExecuteTime": {
     "end_time": "2025-05-11T13:27:04.881892Z",
     "start_time": "2025-05-11T13:27:04.878243Z"
    }
   },
   "source": [
    "hs2 = my_fft(ys)\n",
    "np.sum(np.abs(hs - hs2))"
   ],
   "outputs": [
    {
     "data": {
      "text/plain": [
       "np.float64(1.6653345369377348e-16)"
      ]
     },
     "execution_count": 5,
     "metadata": {},
     "output_type": "execute_result"
    }
   ],
   "execution_count": 5
  },
  {
   "cell_type": "markdown",
   "metadata": {
    "id": "yB1T_Ysk_n3w"
   },
   "source": [
    "Выходное значение очень маленькое, что говорит о корректности рассчётов и погрешности вычислений в методе.\n",
    "\n",
    "Но мы всё ещё не можем утверждать, что эта функция более быстрая.\n",
    "\n",
    "Для подтверждения предположений проверим функцию из методических материалов на предмет сложности N^2:\n"
   ]
  },
  {
   "cell_type": "code",
   "metadata": {
    "colab": {
     "base_uri": "https://localhost:8080/"
    },
    "id": "LZMGkmkq8EQm",
    "outputId": "9fe8952c-b989-4b45-eb89-23165a5cc5f6",
    "ExecuteTime": {
     "end_time": "2025-05-11T13:27:04.938642Z",
     "start_time": "2025-05-11T13:27:04.934120Z"
    }
   },
   "source": [
    "def dft(ys):\n",
    "    N = len(ys)\n",
    "    ts = np.arange(N) / N\n",
    "    freqs = np.arange(N)\n",
    "    args = np.outer(ts, freqs)\n",
    "    M = np.exp(1j * PI2 * args)\n",
    "    amps = M.conj().transpose().dot(ys)\n",
    "    return amps\n",
    "\n",
    "hs3 = dft(ys)\n",
    "np.sum(np.abs(hs - hs3))"
   ],
   "outputs": [
    {
     "data": {
      "text/plain": [
       "np.float64(5.864775846765962e-16)"
      ]
     },
     "execution_count": 6,
     "metadata": {},
     "output_type": "execute_result"
    }
   ],
   "execution_count": 6
  },
  {
   "cell_type": "markdown",
   "metadata": {
    "id": "8prZj_m1AYpP"
   },
   "source": [
    "Также, нам необходима функция для замера скорости выполнения:"
   ]
  },
  {
   "cell_type": "code",
   "metadata": {
    "id": "o0hqfE1c8EJE",
    "ExecuteTime": {
     "end_time": "2025-05-11T13:27:05.045740Z",
     "start_time": "2025-05-11T13:27:05.042741Z"
    }
   },
   "source": [
    "def run_speed_test(func, lengths, ys):\n",
    "    bests = []\n",
    "    print(func.__name__)\n",
    "    for l in lengths:\n",
    "        print(l)\n",
    "        result = %timeit -r1 -o func(ys[:l])\n",
    "        bests.append(result.best)\n",
    "\n",
    "    return bests"
   ],
   "outputs": [],
   "execution_count": 7
  },
  {
   "cell_type": "markdown",
   "metadata": {
    "id": "sAhBNLyMAnAr"
   },
   "source": [
    "И функция, которая будет генерировать массив ys заданной длинны в пределах от -1 до 1:"
   ]
  },
  {
   "cell_type": "code",
   "metadata": {
    "id": "1HUADxGVAmmI",
    "ExecuteTime": {
     "end_time": "2025-05-11T13:27:05.093195Z",
     "start_time": "2025-05-11T13:27:05.090154Z"
    }
   },
   "source": [
    "def generate_ys(max_length=2**5):\n",
    "    return np.random.uniform(-1, 1, max_length)"
   ],
   "outputs": [],
   "execution_count": 8
  },
  {
   "cell_type": "markdown",
   "metadata": {
    "id": "cDs0yzi9AmQM"
   },
   "source": [
    "Для создания выборок разной длинны (по степеням двойки) создадим массив lengths, и сгенерируем ys необходимой длинны:"
   ]
  },
  {
   "cell_type": "code",
   "metadata": {
    "id": "z4d0s6mv8D_c",
    "ExecuteTime": {
     "end_time": "2025-05-11T13:27:05.154350Z",
     "start_time": "2025-05-11T13:27:05.136311Z"
    }
   },
   "source": [
    "max_length = 14\n",
    "lengths = [2 ** i for i in range(5, max_length)]\n",
    "ys = generate_ys(lengths[-1])"
   ],
   "outputs": [],
   "execution_count": 9
  },
  {
   "cell_type": "markdown",
   "metadata": {
    "id": "FcJWGJmFA-XP"
   },
   "source": [
    "Теперь запустим speed_test для встроенного метода в numpy.\n",
    "\n",
    "Результат представлени ниже:"
   ]
  },
  {
   "cell_type": "code",
   "metadata": {
    "colab": {
     "base_uri": "https://localhost:8080/"
    },
    "id": "g24tsev58D0T",
    "outputId": "8d6d76eb-f271-4b44-a8b5-123ee06918ed",
    "ExecuteTime": {
     "end_time": "2025-05-11T13:27:17.574668Z",
     "start_time": "2025-05-11T13:27:05.184458Z"
    }
   },
   "source": [
    "fft_res = run_speed_test(np.fft.fft, lengths, ys)"
   ],
   "outputs": [
    {
     "name": "stdout",
     "output_type": "stream",
     "text": [
      "fft\n",
      "32\n",
      "5.44 μs ± 0 ns per loop (mean ± std. dev. of 1 run, 100,000 loops each)\n",
      "64\n",
      "5.31 μs ± 0 ns per loop (mean ± std. dev. of 1 run, 100,000 loops each)\n",
      "128\n",
      "6.03 μs ± 0 ns per loop (mean ± std. dev. of 1 run, 100,000 loops each)\n",
      "256\n",
      "6.72 μs ± 0 ns per loop (mean ± std. dev. of 1 run, 100,000 loops each)\n",
      "512\n",
      "8.69 μs ± 0 ns per loop (mean ± std. dev. of 1 run, 100,000 loops each)\n",
      "1024\n",
      "12 μs ± 0 ns per loop (mean ± std. dev. of 1 run, 100,000 loops each)\n",
      "2048\n",
      "21.3 μs ± 0 ns per loop (mean ± std. dev. of 1 run, 10,000 loops each)\n",
      "4096\n",
      "39.7 μs ± 0 ns per loop (mean ± std. dev. of 1 run, 10,000 loops each)\n",
      "8192\n",
      "75.2 μs ± 0 ns per loop (mean ± std. dev. of 1 run, 10,000 loops each)\n"
     ]
    }
   ],
   "execution_count": 10
  },
  {
   "cell_type": "markdown",
   "metadata": {
    "id": "kX9ZzQ6fBJY4"
   },
   "source": [
    "Выполним этот же вызов для функции dft, которая по утверждению автора книги работает за время N^2:"
   ]
  },
  {
   "cell_type": "code",
   "metadata": {
    "colab": {
     "base_uri": "https://localhost:8080/"
    },
    "id": "f4hUdaMN8Svp",
    "outputId": "dc06a879-0f24-4661-f1aa-91f2ef81f085",
    "ExecuteTime": {
     "end_time": "2025-05-11T13:27:36.457002Z",
     "start_time": "2025-05-11T13:27:17.583362Z"
    }
   },
   "source": [
    "dft_res = run_speed_test(dft, lengths, ys)"
   ],
   "outputs": [
    {
     "name": "stdout",
     "output_type": "stream",
     "text": [
      "dft\n",
      "32\n",
      "33.3 μs ± 0 ns per loop (mean ± std. dev. of 1 run, 10,000 loops each)\n",
      "64\n",
      "1.39 ms ± 0 ns per loop (mean ± std. dev. of 1 run, 1,000 loops each)\n",
      "128\n",
      "4.39 ms ± 0 ns per loop (mean ± std. dev. of 1 run, 100 loops each)\n",
      "256\n",
      "8.17 ms ± 0 ns per loop (mean ± std. dev. of 1 run, 100 loops each)\n",
      "512\n",
      "15.8 ms ± 0 ns per loop (mean ± std. dev. of 1 run, 100 loops each)\n",
      "1024\n",
      "53 ms ± 0 ns per loop (mean ± std. dev. of 1 run, 10 loops each)\n",
      "2048\n",
      "149 ms ± 0 ns per loop (mean ± std. dev. of 1 run, 10 loops each)\n",
      "4096\n",
      "574 ms ± 0 ns per loop (mean ± std. dev. of 1 run, 1 loop each)\n",
      "8192\n",
      "1.91 s ± 0 ns per loop (mean ± std. dev. of 1 run, 1 loop each)\n"
     ]
    }
   ],
   "execution_count": 11
  },
  {
   "cell_type": "markdown",
   "metadata": {
    "id": "LpYZZOTdBc7f"
   },
   "source": [
    "Аналогично измерим время работы созданной функции БПФ:"
   ]
  },
  {
   "cell_type": "code",
   "metadata": {
    "colab": {
     "base_uri": "https://localhost:8080/"
    },
    "id": "Ure4lnA28Sq5",
    "outputId": "de66c4a1-829d-44f4-9f48-cf307b210a78",
    "ExecuteTime": {
     "end_time": "2025-05-11T13:27:52.605997Z",
     "start_time": "2025-05-11T13:27:36.515099Z"
    }
   },
   "source": [
    "my_fft_res = run_speed_test(my_fft, lengths, ys)"
   ],
   "outputs": [
    {
     "name": "stdout",
     "output_type": "stream",
     "text": [
      "my_fft\n",
      "32\n",
      "453 μs ± 0 ns per loop (mean ± std. dev. of 1 run, 1,000 loops each)\n",
      "64\n",
      "890 μs ± 0 ns per loop (mean ± std. dev. of 1 run, 1,000 loops each)\n",
      "128\n",
      "1.83 ms ± 0 ns per loop (mean ± std. dev. of 1 run, 1,000 loops each)\n",
      "256\n",
      "3.64 ms ± 0 ns per loop (mean ± std. dev. of 1 run, 100 loops each)\n",
      "512\n",
      "7.05 ms ± 0 ns per loop (mean ± std. dev. of 1 run, 100 loops each)\n",
      "1024\n",
      "14 ms ± 0 ns per loop (mean ± std. dev. of 1 run, 100 loops each)\n",
      "2048\n",
      "28.3 ms ± 0 ns per loop (mean ± std. dev. of 1 run, 10 loops each)\n",
      "4096\n",
      "56.5 ms ± 0 ns per loop (mean ± std. dev. of 1 run, 10 loops each)\n",
      "8192\n",
      "112 ms ± 0 ns per loop (mean ± std. dev. of 1 run, 10 loops each)\n"
     ]
    }
   ],
   "execution_count": 12
  },
  {
   "cell_type": "markdown",
   "metadata": {
    "id": "jdKDLwKyBnKv"
   },
   "source": [
    "Для более удобого сравнения результатов выведем их в виде графиков в логарифмической шкале и посчитаем их наклон.\n",
    "\n",
    "Итоговый график выглядит так:"
   ]
  },
  {
   "cell_type": "code",
   "metadata": {
    "colab": {
     "base_uri": "https://localhost:8080/",
     "height": 506
    },
    "id": "28ftSHoG8Snc",
    "outputId": "f991202f-8951-40cd-bcf9-ed507f90e028",
    "ExecuteTime": {
     "end_time": "2025-05-11T13:27:53.835095Z",
     "start_time": "2025-05-11T13:27:52.613810Z"
    }
   },
   "source": [
    "from scipy.stats import linregress\n",
    "\n",
    "def plot_speed_test(lengths, ys, label):\n",
    "    plt.plot(lengths, ys, label=label)\n",
    "    x = np.log(lengths)\n",
    "    y = np.log(ys)\n",
    "    t = linregress(x,y)\n",
    "    print(label, t[0])\n",
    "\n",
    "plot_speed_test(lengths, fft_res, 'fft')\n",
    "plot_speed_test(lengths, dft_res, 'dft')\n",
    "plot_speed_test(lengths, my_fft_res, 'my_fft')\n",
    "\n",
    "plt.legend()\n",
    "plt.xlabel('Len')\n",
    "plt.ylabel('Time (s)')\n",
    "plt.xscale('log')\n",
    "plt.yscale('log')"
   ],
   "outputs": [
    {
     "name": "stdout",
     "output_type": "stream",
     "text": [
      "fft 0.4724984084388733\n",
      "dft 1.7024306955538389\n",
      "my_fft 0.993377302492889\n"
     ]
    },
    {
     "data": {
      "text/plain": [
       "<Figure size 640x480 with 1 Axes>"
      ],
      "image/png": "[encoded data removed]"
     },
     "metadata": {},
     "output_type": "display_data"
    }
   ],
   "execution_count": 13
  },
  {
   "cell_type": "markdown",
   "metadata": {
    "id": "NKlFkzkVCHHy"
   },
   "source": [
    "Из представленного графика мы видим, что быстрее всего работает встроенная функция - fft, и возрастает она достаточно медленно.\n",
    "\n",
    "Быстрее всех возрастает функция dft, которую мы взяли из методических материалов, в начале она, нужно заметить, работает быстрее my_fft.\n",
    "\n",
    " Как и ожидалось, наша функция возрастает достаточно медленно.\n",
    "\n",
    "Что касается наклона, наклон dft почти равен 2, что доказывает пропорцию N^2.\n",
    "\n",
    "fft и my_fft не являются абсолютно прямыми, и их наклон примерно равен 1, что может говорить о логарифмической зависимости их скорости роста.\n"
   ]
  }
 ],
 "metadata": {
  "colab": {
   "provenance": []
  },
  "kernelspec": {
   "display_name": "Python 3 (ipykernel)",
   "name": "python3",
   "language": "python"
  },
  "language_info": {
   "name": "python"
  }
 },
 "nbformat": 4,
 "nbformat_minor": 0
}
